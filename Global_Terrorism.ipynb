{
  "nbformat": 4,
  "nbformat_minor": 0,
  "metadata": {
    "colab": {
      "private_outputs": true,
      "provenance": [],
      "collapsed_sections": [
        "FJNUwmbgGyua",
        "w6K7xa23Elo4",
        "yQaldy8SH6Dl",
        "mDgbUHAGgjLW",
        "Y3lxredqlCYt",
        "3RnN4peoiCZX",
        "x71ZqKXriCWQ",
        "7hBIi_osiCS2",
        "JlHwYmJAmNHm",
        "35m5QtbWiB9F",
        "PoPl-ycgm1ru",
        "H0kj-8xxnORC",
        "nA9Y7ga8ng1Z",
        "MSa1f5Uengrz",
        "0wOQAZs5pc--",
        "KSlN3yHqYklG",
        "EM7whBJCYoAo",
        "4Of9eVA-YrdM",
        "F6T5p64dYrdO",
        "y-Ehk30pYrdP",
        "bamQiAODYuh1",
        "OH-pJp9IphqM",
        "PIIx-8_IphqN",
        "BZR9WyysphqO",
        "YJ55k-q6phqO",
        "U2RJ9gkRphqQ",
        "x-EpHcCOp1ci",
        "n3dbpmDWp1ck",
        "Ag9LCva-p1cl",
        "BCVocOiR-rk1",
        "ugKexAEH-1T4",
        "RjxYSQ9N-5Z0",
        "7jdEb4xJ-7kG",
        "NO_Qt5X9A5bd",
        "gCX9965dhzqZ",
        "gIfDvo9L0UH2"
      ]
    },
    "kernelspec": {
      "name": "python3",
      "display_name": "Python 3"
    },
    "language_info": {
      "name": "python"
    }
  },
  "cells": [
    {
      "cell_type": "markdown",
      "source": [
        "# **Project Name**    - \n",
        "\n"
      ],
      "metadata": {
        "id": "vncDsAP0Gaoa"
      }
    },
    {
      "cell_type": "markdown",
      "source": [
        "##### **Project Type**    - EDA\n",
        "##### **Done By - Rupesh Gandhi**\n"
      ],
      "metadata": {
        "id": "beRrZCGUAJYm"
      }
    },
    {
      "cell_type": "markdown",
      "source": [
        "# **Project Summary -**"
      ],
      "metadata": {
        "id": "FJNUwmbgGyua"
      }
    },
    {
      "cell_type": "markdown",
      "source": [
        "The Global terrorism database(GTD) is an open-source database including info on terrorist attack from 1970-2017.\n",
        "It has systemic data on domestic as well as international terrorist incidents and have more than 180000 attack.\n",
        "This data is maintained by researchers at the National consortium for the study of terrorism and responses to terrorism (START).\n",
        "Different key findings:\n",
        "It gives the date of attack, country affected, regions of attack , city, attack type and target bodies, gang causing , weapons used, details how weapons have been used.\n",
        "In this project we have used NumPy, Pandas , seaborn ,Matplotlib, plotty graph by importing them with their respective alias.\n",
        "The entire data consist of 181691. Rows and 135 columns.\n",
        "From the data we extracted the total no. Of attacks per year.\n",
        "As per data 2014 has maximum no. Of terrorist attack.\n",
        "We have extracted the kills per year I.e deaths due to terrorist attack and plotted bar chart for the same.\n",
        "We have also classified the attack of top 10 gang/group causing maximum no. Of attacks and plotted the pyplot for the same.\n",
        "In addition to it we also find out the deaths caused from each group or gang.\n",
        "Among these we have divided the attack as attack was successful or suicidal.\n",
        "We have extracted the casualties in each region and also divided them in city, Baghdad was the most targeted city in the world.\n",
        "We have extracted the data of top attack plan and guerrilla action scores highest of 80.69%\n",
        "Iraq was the country that suffered the highest no. Of terror attack since 1970 followed by Pakistan, Afghanistan, India etc.\n",
        "Now, we have extracted the no. Of terror attacks suffered by India from 1970-2017 and highest in India was in 2016 and Srinagar has highest no of attacks which caused a highest loss of lives.\n",
        "We have also identified the weapons type and death and cause.\n",
        "These can help us to spy out the weapons and destroy them and prevent future terror attack."
      ],
      "metadata": {
        "id": "F6v_1wHtG2nS"
      }
    },
    {
      "cell_type": "markdown",
      "source": [
        "# **Problem Statement**\n"
      ],
      "metadata": {
        "id": "yQaldy8SH6Dl"
      }
    },
    {
      "cell_type": "markdown",
      "source": [
        "\n",
        "To understand the scope, causes, and impacts of terrorism worldwide, and to develop strategies to mitigate its negative effects and prevent its spread.\"\n",
        "\n",
        "This statement encapsulates the need to study terrorism in a comprehensive and systemic manner, taking into account its various forms, drivers, and consequences. The goal is to find ways to reduce its occurrence and minimize the harm it causes to individuals, communities, and societies. The problem statement highlights the importance of interdisciplinary research and collaboration in addressing terrorism, as it involves a complex array of social, political, economic, and psychological factors."
      ],
      "metadata": {
        "id": "DpeJGUA3kjGy"
      }
    },
    {
      "cell_type": "markdown",
      "source": [
        "#### **Define Your Business Objective?**"
      ],
      "metadata": {
        "id": "PH-0ReGfmX4f"
      }
    },
    {
      "cell_type": "markdown",
      "source": [
        "The main business objective for addressing global terrorism is to minimize risks and negative impacts to the company and its stakeholders. This can include the following objectives:\n",
        "\n",
        "Ensuring the safety and security of employees, customers, assets, and operations.\n",
        "Minimizing the likelihood of a terrorism-related incident occurring.\n",
        "Minimizing the impact if an incident does occur.\n",
        "Complying with local and international regulations and standards related to terrorism.\n",
        "Protecting the company's reputation and brand image.\n",
        "Maintaining continuity of operations and minimizing disruptions to the business.\n",
        "Building and maintaining relationships with key stakeholders, including governments, customers, and communities.\n",
        "Contributing to efforts to create a safer and more secure global environment.\n",
        "These objectives reflect the need for companies to be proactive in addressing the risks associated with terrorism, while balancing the need to continue operating in an increasingly complex and uncertain global environment."
      ],
      "metadata": {
        "id": "PhDvGCAqmjP1"
      }
    },
    {
      "cell_type": "markdown",
      "source": [
        "# ***Let's Begin !***"
      ],
      "metadata": {
        "id": "O_i_v8NEhb9l"
      }
    },
    {
      "cell_type": "markdown",
      "source": [
        "## ***1. Know Your Data***"
      ],
      "metadata": {
        "id": "HhfV-JJviCcP"
      }
    },
    {
      "cell_type": "markdown",
      "source": [
        "### Import Libraries"
      ],
      "metadata": {
        "id": "Y3lxredqlCYt"
      }
    },
    {
      "cell_type": "code",
      "source": [
        "# Import Libraries\n",
        "#Libraries\n",
        "import numpy as np\n",
        "import pandas as pd\n",
        "import seaborn as sns\n",
        "import matplotlib.pyplot as plt\n",
        "import plotly.express as px\n",
        "import folium as fo\n",
        "import plotly.graph_objects as go\n",
        "%matplotlib inline\n",
        "pd.set_option('display.max_columns', None)\n",
        "pd.set_option('display.max_rows', None)"
      ],
      "metadata": {
        "id": "M8Vqi-pPk-HR"
      },
      "execution_count": null,
      "outputs": []
    },
    {
      "cell_type": "markdown",
      "source": [
        "### Dataset Loading"
      ],
      "metadata": {
        "id": "3RnN4peoiCZX"
      }
    },
    {
      "cell_type": "code",
      "source": [
        "# Load Dataset\n",
        "from google.colab import drive\n",
        "drive.mount('/content/drive')\n",
        "\n",
        "file_path ='/content/drive/MyDrive/Global Terrorism Data.csv'\n",
        "df=pd.read_csv(file_path,encoding_errors='ignore')"
      ],
      "metadata": {
        "id": "4CkvbW_SlZ_R"
      },
      "execution_count": null,
      "outputs": []
    },
    {
      "cell_type": "markdown",
      "source": [
        "### Dataset First View"
      ],
      "metadata": {
        "id": "x71ZqKXriCWQ"
      }
    },
    {
      "cell_type": "code",
      "source": [
        "# Dataset First Look\n",
        "df.head(10)"
      ],
      "metadata": {
        "id": "LWNFOSvLl09H"
      },
      "execution_count": null,
      "outputs": []
    },
    {
      "cell_type": "markdown",
      "source": [
        "### Dataset Rows & Columns count"
      ],
      "metadata": {
        "id": "7hBIi_osiCS2"
      }
    },
    {
      "cell_type": "code",
      "source": [
        "# Dataset Rows & Columns count\n",
        "df.shape"
      ],
      "metadata": {
        "id": "Kllu7SJgmLij"
      },
      "execution_count": null,
      "outputs": []
    },
    {
      "cell_type": "markdown",
      "source": [
        "### Dataset Information"
      ],
      "metadata": {
        "id": "JlHwYmJAmNHm"
      }
    },
    {
      "cell_type": "code",
      "source": [
        "# Dataset Info\n",
        "df.info()"
      ],
      "metadata": {
        "id": "e9hRXRi6meOf"
      },
      "execution_count": null,
      "outputs": []
    },
    {
      "cell_type": "markdown",
      "source": [
        "#### Duplicate Values"
      ],
      "metadata": {
        "id": "35m5QtbWiB9F"
      }
    },
    {
      "cell_type": "code",
      "source": [
        "# Dataset Duplicate Value Count\n",
        "print(df.duplicated().sum())"
      ],
      "metadata": {
        "id": "1sLdpKYkmox0"
      },
      "execution_count": null,
      "outputs": []
    },
    {
      "cell_type": "markdown",
      "source": [
        "#### Missing Values/Null Values"
      ],
      "metadata": {
        "id": "PoPl-ycgm1ru"
      }
    },
    {
      "cell_type": "code",
      "source": [
        "# Missing Values/Null Values Count\n",
        "nan_count = df.isna().sum(axis = 0)\n",
        "nan_count.head(10)"
      ],
      "metadata": {
        "id": "GgHWkxvamxVg"
      },
      "execution_count": null,
      "outputs": []
    },
    {
      "cell_type": "code",
      "source": [
        "# Visualizing the missing values\n",
        "nan_count.plot(kind='bar',figsize=(25,8))\n",
        "plt.title('Null Value',fontsize=20)\n",
        "plt.xlabel('colums',fontsize=20)\n",
        "plt.ylabel('null values',fontsize=20)\n",
        "plt.show"
      ],
      "metadata": {
        "id": "3q5wnI3om9sJ"
      },
      "execution_count": null,
      "outputs": []
    },
    {
      "cell_type": "markdown",
      "source": [
        "### What did you know about your dataset? \n"
      ],
      "metadata": {
        "id": "H0kj-8xxnORC"
      }
    },
    {
      "cell_type": "markdown",
      "source": [
        "The Global Terrorism Database is a  database of terrorism attacks and incidents that have occurred around the world since 1970 to 2017. It includes information on over 180,000 incidents, including details on the date and location of the attack, the weapons used, the target, the group responsible, and the number of casualties.\n",
        "\n",
        "It is a valuable resource to find the patterns and trends of terrorism around the world. By analyzing this data, one can gain insights into the motivations, tactics, and targets of terrorist groups, as well as the effectiveness of counter-terrorism measures. Additionally, the data can be used to inform security planning and allocate resources more effectively.\n"
      ],
      "metadata": {
        "id": "gfoNAAC-nUe_"
      }
    },
    {
      "cell_type": "markdown",
      "source": [
        "## ***2. Understanding Your Variables***"
      ],
      "metadata": {
        "id": "nA9Y7ga8ng1Z"
      }
    },
    {
      "cell_type": "code",
      "source": [
        "# Dataset Columns\n",
        "df.columns"
      ],
      "metadata": {
        "id": "j7xfkqrt5Ag5"
      },
      "execution_count": null,
      "outputs": []
    },
    {
      "cell_type": "code",
      "source": [
        "# Dataset Describe\n",
        "df.describe()"
      ],
      "metadata": {
        "id": "DnOaZdaE5Q5t"
      },
      "execution_count": null,
      "outputs": []
    },
    {
      "cell_type": "markdown",
      "source": [
        "### Check Unique Values for each variable."
      ],
      "metadata": {
        "id": "u3PMJOP6ngxN"
      }
    },
    {
      "cell_type": "code",
      "source": [
        "# Check Unique Values for each variable.\n",
        "column_list = df.columns.values.tolist()\n",
        "no_unique=[]\n",
        "for column_name in column_list:\n",
        "  no_unique.append(df[column_name].nunique())\n",
        "unique = pd.DataFrame(list(zip(column_list, no_unique)),\n",
        "               columns =['variable', 'no. of uniques values'])\n",
        "unique.head(10)\n",
        "\n"
      ],
      "metadata": {
        "id": "zms12Yq5n-jE"
      },
      "execution_count": null,
      "outputs": []
    },
    {
      "cell_type": "markdown",
      "source": [
        "## ***3. Data Vizualization, Storytelling & Experimenting with charts : Understand the relationships between variables***"
      ],
      "metadata": {
        "id": "GF8Ens_Soomf"
      }
    },
    {
      "cell_type": "markdown",
      "source": [
        "#### Chart - 1"
      ],
      "metadata": {
        "id": "0wOQAZs5pc--"
      }
    },
    {
      "cell_type": "code",
      "source": [
        "\n",
        "# Total number of attack\n",
        "total_no_of_attacks=df.iyear.count()\n",
        "print('Total no. of attacks',total_no_of_attacks)\n"
      ],
      "metadata": {
        "id": "7v_ESjsspbW7"
      },
      "execution_count": null,
      "outputs": []
    },
    {
      "cell_type": "code",
      "source": [
        "# Chart - 1 visualization code\n",
        "\n",
        "#1 Number of attacks per year\n",
        "\n",
        "attacks_per_year=df.groupby('iyear').agg({'iyear':'count'})\n",
        "attacks_per_year.rename(columns={'iyear':'attacks'},inplace=True)\n",
        "attacks_per_year.index.names = ['year']\n",
        "attacks_per_year.head(10)\n",
        "\n",
        "#Graph\n",
        "\n",
        "attacks_per_year.plot(kind='bar', figsize=(20,8))\n",
        "plt.title('Terrorist Attacks Worldwide by Year 1970-2017',fontsize=20)\n",
        "plt.xlabel('Year',fontsize=20)\n",
        "plt.ylabel('No. of attacks',fontsize=20)\n",
        "plt.show"
      ],
      "metadata": {
        "id": "Q7jj6x7G7CVa"
      },
      "execution_count": null,
      "outputs": []
    },
    {
      "cell_type": "markdown",
      "source": [
        "##### 1. Why did you pick the specific chart?"
      ],
      "metadata": {
        "id": "K5QZ13OEpz2H"
      }
    },
    {
      "cell_type": "markdown",
      "source": [
        "As bar graph is helpful in summarizeing large data set in visual form and we can estimate key values at a glance."
      ],
      "metadata": {
        "id": "XESiWehPqBRc"
      }
    },
    {
      "cell_type": "markdown",
      "source": [
        "##### 2. What is/are the insight(s) found from the chart?"
      ],
      "metadata": {
        "id": "lQ7QKXXCp7Bj"
      }
    },
    {
      "cell_type": "markdown",
      "source": [
        "The chart is plotted total no. Of attacks vs year; it gives the total no. Of attacks each year from 1997-2017."
      ],
      "metadata": {
        "id": "C_j1G7yiqdRP"
      }
    },
    {
      "cell_type": "markdown",
      "source": [
        "##### 3. Will the gained insights help creating a positive business impact? \n",
        "Are there any insights that lead to negative growth? Justify with specific reason."
      ],
      "metadata": {
        "id": "448CDAPjqfQr"
      }
    },
    {
      "cell_type": "markdown",
      "source": [
        "Yes, as the data gives the history of attacks, Here we can see clearly that the no. of attacks have increased in 2007-2017 and 2014 was the most active year for the terrorists.\n",
        "This insight will help us to understand the patterns of year which has highest no. Of attacks and learn from the past to prevent in future."
      ],
      "metadata": {
        "id": "3cspy4FjqxJW"
      }
    },
    {
      "cell_type": "markdown",
      "source": [
        "#### Chart - 2"
      ],
      "metadata": {
        "id": "KSlN3yHqYklG"
      }
    },
    {
      "cell_type": "code",
      "source": [
        "# Chart - 2 visualization code\n",
        "\n",
        "#Total number of kills per year\n",
        "\n",
        "kills_per_year=df.groupby('iyear').agg({'nkill':'sum'})\n",
        "kills_per_year.rename(columns={'nkill':'deaths'},inplace=True)\n",
        "kills_per_year.index.names = ['year']\n",
        "kills_per_year.head(15)\n",
        "\n",
        "#Graph\n",
        "\n",
        "kills_per_year.plot(kind='bar', figsize=(20,8))\n",
        "plt.title('Deaths in Terrorist Attacks Worldwide by Year 1970-2017',fontsize=20)\n",
        "plt.xlabel('Year',fontsize=20)\n",
        "plt.ylabel('Deaths',fontsize=20)\n",
        "plt.show"
      ],
      "metadata": {
        "id": "R4YgtaqtYklH"
      },
      "execution_count": null,
      "outputs": []
    },
    {
      "cell_type": "markdown",
      "source": [
        "##### 1. Why did you pick the specific chart?"
      ],
      "metadata": {
        "id": "t6dVpIINYklI"
      }
    },
    {
      "cell_type": "markdown",
      "source": [
        "As bar chart show each data category in a frequency distribution, and permit a visual check of the accuracy and reasonableness of calculation it clearly provides the data."
      ],
      "metadata": {
        "id": "5aaW0BYyYklI"
      }
    },
    {
      "cell_type": "markdown",
      "source": [
        "##### 2. What is/are the insight(s) found from the chart?"
      ],
      "metadata": {
        "id": "ijmpgYnKYklI"
      }
    },
    {
      "cell_type": "markdown",
      "source": [
        "Bar chart is plotted on no. Of kills i.e deaths vs year; it gives the man resource loss per year due to attacks."
      ],
      "metadata": {
        "id": "PSx9atu2YklI"
      }
    },
    {
      "cell_type": "markdown",
      "source": [
        "##### 3. Will the gained insights help creating a positive business impact? \n",
        "Are there any insights that lead to negative growth? Justify with specific reason."
      ],
      "metadata": {
        "id": "-JiQyfWJYklI"
      }
    },
    {
      "cell_type": "markdown",
      "source": [
        "Yes, as the data gives the number of kills, Here we can see clearly that the no. of attacks is directly proportional to no of kills such as where no of attacks is more then no of deaths is also increased and 2014 was the most active year for the terrorists.."
      ],
      "metadata": {
        "id": "BcBbebzrYklV"
      }
    },
    {
      "cell_type": "markdown",
      "source": [
        "#### Chart - 3"
      ],
      "metadata": {
        "id": "EM7whBJCYoAo"
      }
    },
    {
      "cell_type": "code",
      "source": [
        "# Chart - 3 visualization code\n",
        "\n",
        "#Number of attacks done by different groups\n",
        "7\n",
        "attacks_group=df.groupby('gname').agg({'iyear':'count'})\n",
        "attacks_group.sort_values(by='iyear',ascending=False,inplace=True)\n",
        "attacks_group.rename(columns={'iyear':'total attack'},inplace=True)\n",
        "attacks_group.index.names = ['Group name']\n",
        "attacks_group.head(10)\n",
        "Top_ten_groups=attacks_group.head(10)\n",
        "Top_ten_groups\n",
        "\n",
        "\n",
        "#Graph\n",
        "plt.figure(figsize=(8, 8))\n",
        "\n",
        "data=Top_ten_groups['total attack']\n",
        "key= Top_ten_groups.index\n",
        "explode = [0.1, 0.5, 0.5, 0.5, 0.5,0.5,0.5,0.5,0.5,0.5]\n",
        "plt.pie(data, labels=key,explode=explode,autopct='%1.2f%%')\n",
        "plt.show"
      ],
      "metadata": {
        "id": "t6GMdE67YoAp"
      },
      "execution_count": null,
      "outputs": []
    },
    {
      "cell_type": "markdown",
      "source": [
        "##### 1. Why did you pick the specific chart?"
      ],
      "metadata": {
        "id": "fge-S5ZAYoAp"
      }
    },
    {
      "cell_type": "markdown",
      "source": [
        "As pie chart helps to organize and show data as a percentage of a whole.\n"
      ],
      "metadata": {
        "id": "5dBItgRVYoAp"
      }
    },
    {
      "cell_type": "markdown",
      "source": [
        "##### 2. What is/are the insight(s) found from the chart?"
      ],
      "metadata": {
        "id": "85gYPyotYoAp"
      }
    },
    {
      "cell_type": "markdown",
      "source": [
        "Pie chart is plotted on total number of attacks done by different groups it gives total percentage of attacks done by groups.\n",
        "Here we clearly see that most of the attacks were executed by unknown group or we can say these attacks were unclaimed by any group and after that Taliban is the most active group out of others which did around 6.5% of total attacks and ISIL is after them.\n"
      ],
      "metadata": {
        "id": "4jstXR6OYoAp"
      }
    },
    {
      "cell_type": "markdown",
      "source": [
        "##### 3. Will the gained insights help creating a positive business impact? \n",
        "Are there any insights that lead to negative growth? Justify with specific reason."
      ],
      "metadata": {
        "id": "RoGjAbkUYoAp"
      }
    },
    {
      "cell_type": "markdown",
      "source": [
        "Yes, the data we are getting here is about the most active terror group. So by using these data any agencies will be able to highlight those groups and track them by making them priorities."
      ],
      "metadata": {
        "id": "zfJ8IqMcYoAp"
      }
    },
    {
      "cell_type": "markdown",
      "source": [
        "#### Chart - 4"
      ],
      "metadata": {
        "id": "4Of9eVA-YrdM"
      }
    },
    {
      "cell_type": "code",
      "source": [
        "# Chart - 4 visualization code\n",
        "\n",
        "# successful and suicide attacks done per year \n",
        "\n",
        "succ_attack=df.groupby('iyear').agg({'iyear':'count'})\n",
        "succ_attack['Successful attack']=df.groupby('iyear').agg({'success':'sum'})\n",
        "succ_attack['Suicide attack']=df.groupby('iyear').agg({'suicide':'sum'})\n",
        "succ_attack.rename(columns={'iyear':'Total attacks'},inplace=True)\n",
        "succ_attack.head(5)\n",
        "\n",
        "\n",
        "#Graph\n",
        "\n",
        "succ_attack.plot(kind='line',figsize=(20,8),grid=True)\n",
        "plt.show"
      ],
      "metadata": {
        "id": "irlUoxc8YrdO"
      },
      "execution_count": null,
      "outputs": []
    },
    {
      "cell_type": "markdown",
      "source": [
        "##### 1. Why did you pick the specific chart?"
      ],
      "metadata": {
        "id": "iky9q4vBYrdO"
      }
    },
    {
      "cell_type": "markdown",
      "source": [
        "Here we used line graph to track changes over short and long periods of time. When smaller changes exist, line graphs are better to use than bar graphs."
      ],
      "metadata": {
        "id": "aJRCwT6DYrdO"
      }
    },
    {
      "cell_type": "markdown",
      "source": [
        "##### 2. What is/are the insight(s) found from the chart?"
      ],
      "metadata": {
        "id": "F6T5p64dYrdO"
      }
    },
    {
      "cell_type": "markdown",
      "source": [
        "Line graph is plotted on Total attacks , Successful attacks & Suicide attacks.it gives the total no. of successful & suicide attacks over a certain time period. The line graph shows that the no. of total attacks and successful attacks risen over years but suicide bombers kind of attacks are either constant or got minimum hike."
      ],
      "metadata": {
        "id": "Xx8WAJvtYrdO"
      }
    },
    {
      "cell_type": "markdown",
      "source": [
        "##### 3. Will the gained insights help creating a positive business impact? \n",
        "Are there any insights that lead to negative growth? Justify with specific reason."
      ],
      "metadata": {
        "id": "y-Ehk30pYrdP"
      }
    },
    {
      "cell_type": "markdown",
      "source": [
        "Yes, Here these line graphs clearly shows that both no. of attacks and successful attacks are proportional where suicide rate are not much over the years. So for the agencies it will be quite helpful to raise alerts for the peoples for any other future hits."
      ],
      "metadata": {
        "id": "jLNxxz7MYrdP"
      }
    },
    {
      "cell_type": "markdown",
      "source": [
        "#### Chart - 5"
      ],
      "metadata": {
        "id": "bamQiAODYuh1"
      }
    },
    {
      "cell_type": "code",
      "source": [
        "# Chart - 5 visualization code\n",
        "\n",
        "# total no of kills done by groups \n",
        "\n",
        "total_kills = df.groupby(['gname'])[['nkill']].agg('sum').sort_values(by='nkill', ascending=False)\n",
        "total_kills.reset_index(inplace=True)\n",
        "total_kills\n",
        "\n",
        "# Graph\n",
        "\n",
        "sns.barplot(y = total_kills['gname'][1:16], x= total_kills['nkill'][1:16], palette=('inferno'))\n",
        "plt.xticks(rotation=90)\n",
        "fig = plt.gcf()\n",
        "fig.set_size_inches(10,6)\n",
        "plt.title('Terrorist Groups who caused most number of Casualties')\n",
        "plt.show()"
      ],
      "metadata": {
        "id": "TIJwrbroYuh3"
      },
      "execution_count": null,
      "outputs": []
    },
    {
      "cell_type": "markdown",
      "source": [
        "##### 1. Why did you pick the specific chart?"
      ],
      "metadata": {
        "id": "QHF8YVU7Yuh3"
      }
    },
    {
      "cell_type": "markdown",
      "source": [
        "Here we used horizontal barchart so it enables you to display those values in a natural way."
      ],
      "metadata": {
        "id": "dcxuIMRPYuh3"
      }
    },
    {
      "cell_type": "markdown",
      "source": [
        "##### 2. What is/are the insight(s) found from the chart?"
      ],
      "metadata": {
        "id": "GwzvFGzlYuh3"
      }
    },
    {
      "cell_type": "markdown",
      "source": [
        "Bar chart is plotted on terrorist groups vs casualities done by them ; it gives the no. of casualities done by different terrorist groups. As in data we can see that around 39000 casualty done by ISIL which is highest in figure."
      ],
      "metadata": {
        "id": "uyqkiB8YYuh3"
      }
    },
    {
      "cell_type": "markdown",
      "source": [
        "##### 3. Will the gained insights help creating a positive business impact? \n",
        "Are there any insights that lead to negative growth? Justify with specific reason."
      ],
      "metadata": {
        "id": "qYpmQ266Yuh3"
      }
    },
    {
      "cell_type": "markdown",
      "source": [
        "This horizontal bar graph tells us about the most dangerous terrorist group all over the world, and ISIL, Taliban and Boko Haram tops the table. This data creates a big positive business impact for any agencies who were tracking them. This data will help agencies to focus on some specific groups."
      ],
      "metadata": {
        "id": "_WtzZ_hCYuh4"
      }
    },
    {
      "cell_type": "markdown",
      "source": [
        "#### Chart - 6   Pair Plot"
      ],
      "metadata": {
        "id": "OH-pJp9IphqM"
      }
    },
    {
      "cell_type": "code",
      "source": [
        "# Chart - 6 visualization code\n",
        "\n",
        "# percentage of kills in each regions\n",
        "\n",
        "total_casualities_con = df.groupby(['region'])['nkill'].sum().reset_index()\n",
        "total_casualities_con['%per'] = (total_casualities_con['nkill']/total_casualities_con['nkill'].sum())*100\n",
        "total_casualities_con\n",
        "\n",
        "# Graph\n",
        "\n",
        "sns.pairplot(total_casualities_con, diag_kind=\"kde\")\n",
        "plt.show\n"
      ],
      "metadata": {
        "id": "kuRf4wtuphqN"
      },
      "execution_count": null,
      "outputs": []
    },
    {
      "cell_type": "markdown",
      "source": [
        "##### 1. Why did you pick the specific chart?"
      ],
      "metadata": {
        "id": "bbFf2-_FphqN"
      }
    },
    {
      "cell_type": "markdown",
      "source": [
        "As pairs plot allows us to see both distribution of single variables and relationships between two variables."
      ],
      "metadata": {
        "id": "loh7H2nzphqN"
      }
    },
    {
      "cell_type": "markdown",
      "source": [
        "##### 2. What is/are the insight(s) found from the chart?"
      ],
      "metadata": {
        "id": "_ouA3fa0phqN"
      }
    },
    {
      "cell_type": "markdown",
      "source": [
        "The visualization provides information on the total number of casualties and the percentage of casualties per region, and it is clear that this information can be applied to create a positive business impact.\n"
      ],
      "metadata": {
        "id": "VECbqPI7phqN"
      }
    },
    {
      "cell_type": "markdown",
      "source": [
        "##### 3. Will the gained insights help creating a positive business impact? \n",
        "Are there any insights that lead to negative growth? Justify with specific reason."
      ],
      "metadata": {
        "id": "Seke61FWphqN"
      }
    },
    {
      "cell_type": "markdown",
      "source": [
        "This graph can be used to find insights for an intelligence agency in terms of understanding the regions where the highest number of casualties are occurring. If the agency can identify regions with high casualties, it can take appropriate measures to reduce the casualties and prevent future attacks. The graph can also help the agency to understand if there is any pattern or trend in the distribution of casualties across the regions. Based on the insights gained from the graph, the agency can take appropriate actions to counter terrorism and prevent further casualties."
      ],
      "metadata": {
        "id": "DW4_bGpfphqN"
      }
    },
    {
      "cell_type": "markdown",
      "source": [
        "#### Chart - 7"
      ],
      "metadata": {
        "id": "PIIx-8_IphqN"
      }
    },
    {
      "cell_type": "code",
      "source": [
        "# Chart - 7 visualization code\n",
        "\n",
        "# total casualitites in cities\n",
        "\n",
        "total_casualities_city = df['city'].value_counts().reset_index().rename(columns={'index':'city','city':'Count'})\n",
        "\n",
        "#Graph\n",
        "sns.barplot(y = total_casualities_city['city'][1:16], x= total_casualities_city['Count'][1:16], palette=('inferno'))\n",
        "plt.xticks(rotation=90)\n",
        "fig = plt.gcf()\n",
        "fig.set_size_inches(15,10)\n",
        "plt.title('Most Targeted City in the world by Terrorism')\n",
        "plt.show()"
      ],
      "metadata": {
        "id": "lqAIGUfyphqO"
      },
      "execution_count": null,
      "outputs": []
    },
    {
      "cell_type": "markdown",
      "source": [
        "##### 1. Why did you pick the specific chart?"
      ],
      "metadata": {
        "id": "t27r6nlMphqO"
      }
    },
    {
      "cell_type": "markdown",
      "source": [
        "Here we used horizontal barchart so it enables you to display those values in a natural way."
      ],
      "metadata": {
        "id": "iv6ro40sphqO"
      }
    },
    {
      "cell_type": "markdown",
      "source": [
        "##### 2. What is/are the insight(s) found from the chart?"
      ],
      "metadata": {
        "id": "r2jJGEOYphqO"
      }
    },
    {
      "cell_type": "markdown",
      "source": [
        "Bar chart is plotted on most targeted cities vs causalities; it gives the no. of causalities done in several cities and Baghdad tops the table with around more than 7000 casualties."
      ],
      "metadata": {
        "id": "Po6ZPi4hphqO"
      }
    },
    {
      "cell_type": "markdown",
      "source": [
        "##### 3. Will the gained insights help creating a positive business impact? \n",
        "Are there any insights that lead to negative growth? Justify with specific reason."
      ],
      "metadata": {
        "id": "b0JNsNcRphqO"
      }
    },
    {
      "cell_type": "markdown",
      "source": [
        "The bar plot provides a visual representation of the data, which can be useful in identifying trends and patterns in the data. For example, it can help to highlight which cities have been the most frequently targeted by terrorists, and can provide a basis for further analysis and investigation into the causes of terrorism in those cities."
      ],
      "metadata": {
        "id": "xvSq8iUTphqO"
      }
    },
    {
      "cell_type": "markdown",
      "source": [
        "#### Chart - 8"
      ],
      "metadata": {
        "id": "BZR9WyysphqO"
      }
    },
    {
      "cell_type": "code",
      "source": [
        "# Chart - 8 visualization code\n",
        "\n",
        "#9 top attack plans\n",
        "\n",
        "top_attack_plan = df['alternative_txt'].value_counts().reset_index().rename(columns={'index':'alternative_txt','alternative_txt':'Count'})\n",
        "top_attack_plan\n",
        "\n",
        "#Graph\n",
        "\n",
        "data=top_attack_plan['Count']\n",
        "keys= top_attack_plan['alternative_txt']\n",
        "explode = [0.0,0.1,0.2,0.4,0.6]\n",
        "palette_color = sns.color_palette('bright')\n",
        "plt.figure(figsize=(8, 8))\n",
        "plt.pie(data, labels=keys,colors=palette_color,explode=explode,autopct='%1.2f%%')\n",
        "plt.show"
      ],
      "metadata": {
        "id": "TdPTWpAVphqO"
      },
      "execution_count": null,
      "outputs": []
    },
    {
      "cell_type": "markdown",
      "source": [
        "##### 1. Why did you pick the specific chart?"
      ],
      "metadata": {
        "id": "jj7wYXLtphqO"
      }
    },
    {
      "cell_type": "markdown",
      "source": [
        "Here we used pie chart because it helps to organize and show data as a percentage of a whole."
      ],
      "metadata": {
        "id": "Ob8u6rCTphqO"
      }
    },
    {
      "cell_type": "markdown",
      "source": [
        "##### 2. What is/are the insight(s) found from the chart?"
      ],
      "metadata": {
        "id": "eZrbJ2SmphqO"
      }
    },
    {
      "cell_type": "markdown",
      "source": [
        "The above data provides the insights into the distribution of the various types of terrorist attacks based on the \"alternative_txt\" column of the data. The data is visualized as a pie chart, where the size of each wedge of the pie represents the proportion of the total number of attacks that fall under that particular type of attack. The values are also represented as percentages on the chart, which provides a more interpretable representation of the data."
      ],
      "metadata": {
        "id": "mZtgC_hjphqO"
      }
    },
    {
      "cell_type": "markdown",
      "source": [
        "##### 3. Will the gained insights help creating a positive business impact? \n",
        "Are there any insights that lead to negative growth? Justify with specific reason."
      ],
      "metadata": {
        "id": "rFu4xreNphqO"
      }
    },
    {
      "cell_type": "markdown",
      "source": [
        "The insights from this visualization can help the agencies in understanding the types of attacks that are most common in the data, and can potentially inform counter-terrorism strategies and efforts."
      ],
      "metadata": {
        "id": "ey_0qi68phqO"
      }
    },
    {
      "cell_type": "markdown",
      "source": [
        "#### Chart - 9"
      ],
      "metadata": {
        "id": "YJ55k-q6phqO"
      }
    },
    {
      "cell_type": "code",
      "source": [
        "# Chart - 9 visualization code\n",
        "\n",
        "# Number of attacks in per region\n",
        "\n",
        "region_wise=df.groupby('region_txt').agg({'iyear':'count'}).rename(columns={'iyear':'total_attacks'}).reset_index().sort_values('total_attacks',ascending=False)\n",
        "region_wise.head(10)\n",
        "\n",
        "#Graph\n",
        "\n",
        "plt.rcParams['figure.figsize']=(15,8)\n",
        "sns.set_style(\"darkgrid\")\n",
        "sns.set(font_scale=1.2)\n",
        "f=sns.barplot(x='total_attacks',y='region_txt',data=region_wise,palette='mako')\n",
        "f.set_title(\"Region Wise Global Terrorist Attack   Year 1970-2017\",fontsize=25,fontweight='bold')\n",
        "f.set_xlabel('Total Attacks',fontsize=20)\n",
        "f.set_ylabel('Region',fontsize=20)\n",
        "\n",
        "\n",
        "\n",
        "\n"
      ],
      "metadata": {
        "id": "B2aS4O1ophqO"
      },
      "execution_count": null,
      "outputs": []
    },
    {
      "cell_type": "markdown",
      "source": [
        "##### 1. Why did you pick the specific chart?"
      ],
      "metadata": {
        "id": "gCFgpxoyphqP"
      }
    },
    {
      "cell_type": "markdown",
      "source": [
        "Here we used horizontal barchart so it enables you to display those values in a natural way."
      ],
      "metadata": {
        "id": "TVxDimi2phqP"
      }
    },
    {
      "cell_type": "markdown",
      "source": [
        "##### 2. What is/are the insight(s) found from the chart?"
      ],
      "metadata": {
        "id": "OVtJsKN_phqQ"
      }
    },
    {
      "cell_type": "markdown",
      "source": [
        "It provides an insight into which regions have experienced the most terrorist attacks and helps to identify the regions that are most vulnerable to these types of incidents. We can clearly see that Middle East and North Africa is highly affected by thses attacks."
      ],
      "metadata": {
        "id": "ngGi97qjphqQ"
      }
    },
    {
      "cell_type": "markdown",
      "source": [
        "##### 3. Will the gained insights help creating a positive business impact? \n",
        "Are there any insights that lead to negative growth? Justify with specific reason."
      ],
      "metadata": {
        "id": "lssrdh5qphqQ"
      }
    },
    {
      "cell_type": "markdown",
      "source": [
        "The data can be useful in developing strategies to prevent and respond to terrorist attacks in these regions, which can have a positive impact on businesses operating in these areas."
      ],
      "metadata": {
        "id": "tBpY5ekJphqQ"
      }
    },
    {
      "cell_type": "markdown",
      "source": [
        "#### Chart - 10"
      ],
      "metadata": {
        "id": "U2RJ9gkRphqQ"
      }
    },
    {
      "cell_type": "code",
      "source": [
        "# Chart - 10 visualization code\n",
        "\n",
        "#Countries that suffered the most number of Terror attacks/Hostile situations since 1970\n",
        "\n",
        "most_attacked_countries = df.groupby(['country_txt'])['country_txt'].size().reset_index(name='No_of_Incidents')\n",
        "most_attacked_countries.sort_values(by=['No_of_Incidents'], ascending = False, inplace = True)\n",
        "most_attacked_countries.set_index('country_txt', inplace=True)\n",
        "most_attacked_countries.index.name = 'country'\n",
        "\n",
        "most_attacked_countries.head(15)\n",
        "\n",
        "#Graph\n",
        "\n",
        "\n",
        "fig = px.choropleth(most_attacked_countries, locations=most_attacked_countries.index, \n",
        "                    locationmode='country names', color='No_of_Incidents', \n",
        "                    color_continuous_scale='reds', hover_name=most_attacked_countries.index, \n",
        "                    hover_data={'No_of_Incidents': ':,d'})\n",
        "fig.update_layout(title_text='Countries with the Most Terrorist Attacks')\n",
        "fig.update_layout(geo=dict(showframe=False, showcoastlines=False, projection_type='equirectangular'))\n",
        "fig.show()\n",
        "\n"
      ],
      "metadata": {
        "id": "GM7a4YP4phqQ"
      },
      "execution_count": null,
      "outputs": []
    },
    {
      "cell_type": "markdown",
      "source": [
        "##### 1. Why did you pick the specific chart?"
      ],
      "metadata": {
        "id": "1M8mcRywphqQ"
      }
    },
    {
      "cell_type": "markdown",
      "source": [
        "It seems to be a choropleth map created using Plotly Express. It is a useful way to visualize the data when you want to show how a numeric value is distributed across geographical locations."
      ],
      "metadata": {
        "id": "8agQvks0phqQ"
      }
    },
    {
      "cell_type": "markdown",
      "source": [
        "##### 2. What is/are the insight(s) found from the chart?"
      ],
      "metadata": {
        "id": "tgIPom80phqQ"
      }
    },
    {
      "cell_type": "markdown",
      "source": [
        "The insight found from this chart is that the countries with the most number of terrorist attacks can be seen by the color intensity on the map. The darker the color, the higher the number of incidents, which indicates that the country is more prone to terrorist attacks. In this case, Iraq, Afghanistan, and India have the highest number of terrorist attacks."
      ],
      "metadata": {
        "id": "Qp13pnNzphqQ"
      }
    },
    {
      "cell_type": "markdown",
      "source": [
        "##### 3. Will the gained insights help creating a positive business impact? \n",
        "Are there any insights that lead to negative growth? Justify with specific reason."
      ],
      "metadata": {
        "id": "JMzcOPDDphqR"
      }
    },
    {
      "cell_type": "markdown",
      "source": [
        "The information on the countries with the most terrorist attacks can help companies make informed decisions regarding investment, business operations, and risk management in those countries, whereas agengies like RAW get the help to find those terrorist groups."
      ],
      "metadata": {
        "id": "R4Ka1PC2phqR"
      }
    },
    {
      "cell_type": "markdown",
      "source": [
        "#### Chart - 11"
      ],
      "metadata": {
        "id": "x-EpHcCOp1ci"
      }
    },
    {
      "cell_type": "code",
      "source": [
        "# Chart - 11 visualization code\n",
        "\n",
        "#Terror incidents suffered by India since 1970\n",
        "\n",
        "data_India = df.loc[df.country_txt == 'India']\n",
        "data_India.tail(15)\n",
        "\n",
        "#Graph\n",
        "\n",
        "plt.subplots(figsize=(18,6))\n",
        "sns.countplot('iyear',data= data_India, palette='icefire', edgecolor = sns.dark_palette(\"Black\"))\n",
        "plt.xticks(rotation = 90)\n",
        "plt.title('Number of terror incidents suffered by India (1970-2017)')\n",
        "plt.show()"
      ],
      "metadata": {
        "id": "mAQTIvtqp1cj"
      },
      "execution_count": null,
      "outputs": []
    },
    {
      "cell_type": "markdown",
      "source": [
        "##### 1. Why did you pick the specific chart?"
      ],
      "metadata": {
        "id": "X_VqEhTip1ck"
      }
    },
    {
      "cell_type": "markdown",
      "source": [
        "As bar chart show each data category in a frequency distribution, and permit a visual check of the accuracy and reasonableness of calculation it clearly provides the data."
      ],
      "metadata": {
        "id": "-vsMzt_np1ck"
      }
    },
    {
      "cell_type": "markdown",
      "source": [
        "##### 2. What is/are the insight(s) found from the chart?"
      ],
      "metadata": {
        "id": "8zGJKyg5p1ck"
      }
    },
    {
      "cell_type": "markdown",
      "source": [
        "Bar chart is plotted on no. Of terror incident in India vs year; it gives the no. of attacks happened in India from year (1970-2017). The insight from the chart is that there has been a significant increase in the number of terror incidents in India over the years, particularly after the year 2000."
      ],
      "metadata": {
        "id": "ZYdMsrqVp1ck"
      }
    },
    {
      "cell_type": "markdown",
      "source": [
        "##### 3. Will the gained insights help creating a positive business impact? \n",
        "Are there any insights that lead to negative growth? Justify with specific reason."
      ],
      "metadata": {
        "id": "PVzmfK_Ep1ck"
      }
    },
    {
      "cell_type": "markdown",
      "source": [
        "The government or relevant agencies use this data to address the root causes of terrorism and implement effective counter-terrorism measures, it could potentially have a positive impact on the overall security and stability of the country, which could in turn have a positive impact on business and economic activities."
      ],
      "metadata": {
        "id": "druuKYZpp1ck"
      }
    },
    {
      "cell_type": "markdown",
      "source": [
        "#### Chart - 12"
      ],
      "metadata": {
        "id": "n3dbpmDWp1ck"
      }
    },
    {
      "cell_type": "code",
      "source": [
        "# Chart - 12 visualization code\n",
        "\n",
        "# Casuality in india per year\n",
        "\n",
        "casulities_India = data_India.groupby(['iyear'])[['nkill','nwound','nkillter']].sum()\n",
        "casulities_India.reset_index(inplace=True)\n",
        "casulities_India\n",
        "\n",
        "#Graph\n",
        "\n",
        "casulities_India.set_index('iyear').plot(figsize=(20,8),grid = True)\n",
        "plt.show()"
      ],
      "metadata": {
        "id": "bwevp1tKp1ck"
      },
      "execution_count": null,
      "outputs": []
    },
    {
      "cell_type": "markdown",
      "source": [
        "##### 1. Why did you pick the specific chart?"
      ],
      "metadata": {
        "id": "ylSl6qgtp1ck"
      }
    },
    {
      "cell_type": "markdown",
      "source": [
        "Here we used line graph to track changes over short and long periods of time. When smaller changes exist, line graphs are better to use than bar graphs."
      ],
      "metadata": {
        "id": "m2xqNkiQp1ck"
      }
    },
    {
      "cell_type": "markdown",
      "source": [
        "##### 2. What is/are the insight(s) found from the chart?"
      ],
      "metadata": {
        "id": "ZWILFDl5p1ck"
      }
    },
    {
      "cell_type": "markdown",
      "source": [
        "Line graph is plotted on no. of kill ,no. of wound &no. of terrorist killed .it gives the total no. of people killed , wounded & terrorist killed in India from (1970-2017). This chart could help understand the historical trend of casualties caused by terrorism in India."
      ],
      "metadata": {
        "id": "x-lUsV2mp1ck"
      }
    },
    {
      "cell_type": "markdown",
      "source": [
        "##### 3. Will the gained insights help creating a positive business impact? \n",
        "Are there any insights that lead to negative growth? Justify with specific reason."
      ],
      "metadata": {
        "id": "M7G43BXep1ck"
      }
    },
    {
      "cell_type": "markdown",
      "source": [
        "Yes, as the data gives the history of attacks, Here we can see clearly that the no. of attacks have increased around 1990-2010 and 2008 was the most active year for the terrorists.\n",
        "This insight will help us to understand the patterns of year which has highest no. Of attacks and learn from the past to prevent in future."
      ],
      "metadata": {
        "id": "5wwDJXsLp1cl"
      }
    },
    {
      "cell_type": "markdown",
      "source": [
        "#### Chart - 13"
      ],
      "metadata": {
        "id": "Ag9LCva-p1cl"
      }
    },
    {
      "cell_type": "code",
      "source": [
        "# Chart - 13 visualization code\n",
        "\n",
        "#Number of Attacks & Causalities by City since 1970\n",
        "\n",
        "attack_loc = data_India['city'].value_counts().reset_index().rename(columns={'index':'city','city':'No_of_Attacks'})\n",
        "death_count = data_India.groupby(['city'])['nkill'].sum().reset_index()\n",
        "\n",
        "death_count_per_loc = attack_loc.merge(death_count, how='inner', on='city')\n",
        "death_count_per_loc[:10]\n",
        "\n",
        "#Graph\n",
        "death_count_per_loc = death_count_per_loc.sort_values('No_of_Attacks', ascending=False)[:15]\n",
        "\n",
        "# Plot lines for number of attacks and number of kills\n",
        "plt.figure(figsize=(20, 10))\n",
        "plt.plot(death_count_per_loc['city'], death_count_per_loc['No_of_Attacks'], color='blue', label='Number of Attacks')\n",
        "plt.plot(death_count_per_loc['city'], death_count_per_loc['nkill'], color='red', label='Number of Kills')\n",
        "\n",
        "# Set axis labels and title\n",
        "plt.xlabel('City')\n",
        "plt.ylabel('Count')\n",
        "plt.title('Terrorist Attacks and Number of Kills in Top 15 Indian Cities')\n"
      ],
      "metadata": {
        "id": "EUfxeq9-p1cl"
      },
      "execution_count": null,
      "outputs": []
    },
    {
      "cell_type": "markdown",
      "source": [
        "##### 1. Why did you pick the specific chart?"
      ],
      "metadata": {
        "id": "E6MkPsBcp1cl"
      }
    },
    {
      "cell_type": "markdown",
      "source": [
        "This chart was picked up to visualize the number of attacks and the number of casualties in the top 15 cities in India since 1970. It helps to understand the cities that have been most affected by terrorism and the extent of damage caused by these attacks in terms of the number of casualties"
      ],
      "metadata": {
        "id": "V22bRsFWp1cl"
      }
    },
    {
      "cell_type": "markdown",
      "source": [
        "##### 2. What is/are the insight(s) found from the chart?"
      ],
      "metadata": {
        "id": "2cELzS2fp1cl"
      }
    },
    {
      "cell_type": "markdown",
      "source": [
        "This line chart is plotted no of attacks and s casualties vs cities, this data depicts that Srinagar has highest casualties bijapur has lowest casualties"
      ],
      "metadata": {
        "id": "ozQPc2_Ip1cl"
      }
    },
    {
      "cell_type": "markdown",
      "source": [
        "##### 3. Will the gained insights help creating a positive business impact? \n",
        "Are there any insights that lead to negative growth? Justify with specific reason."
      ],
      "metadata": {
        "id": "3MPXvC8up1cl"
      }
    },
    {
      "cell_type": "markdown",
      "source": [
        "This data will help to keep identify the city which is most impacted and keep a survilence on this cities and close proximities and find out the cause and keep an eye on major gang of this cities and prevent future attacks."
      ],
      "metadata": {
        "id": "GL8l1tdLp1cl"
      }
    },
    {
      "cell_type": "markdown",
      "source": [
        "#### Chart - 14"
      ],
      "metadata": {
        "id": "RF7hVe_k-hRF"
      }
    },
    {
      "cell_type": "code",
      "source": [
        "# Chart - 14 visualization code\n",
        "\n",
        "# Exploring the most attacked City in India i.e Srinagar excluding unknown attack which is 53% of total attack\n",
        "\n",
        "srinagar_data = data_India.loc[data_India.city == 'Srinagar']\n",
        "srinagar_terror_log = srinagar_data['gname'].value_counts().reset_index().rename(columns={'index': 'Terrorist Group', 'gname': 'No. of Attacks'})\n",
        "srinagar_terror_log.set_index('Terrorist Group', inplace=True)\n",
        "\n",
        "\n",
        "#Graph\n",
        "top_10_group_srinagar=srinagar_terror_log[1:11]\n",
        "fig = px.pie(top_10_group_srinagar, values='No. of Attacks', names=top_10_group_srinagar.index, hole=.3)\n",
        "fig1 = px.pie(gun_type, values=values, names=labels, hole=.5, height = 500, width = 700)\n",
        "fig.update_traces(textposition='inside', textinfo='percent+label')\n",
        "fig.update_layout(title_text='Terrorist Groups Operating in Srinagar')\n",
        "fig.show()\n"
      ],
      "metadata": {
        "id": "TtMnEnlB-hRG"
      },
      "execution_count": null,
      "outputs": []
    },
    {
      "cell_type": "markdown",
      "source": [
        "##### 1. Why did you pick the specific chart?"
      ],
      "metadata": {
        "id": "jeAIXHna-hRG"
      }
    },
    {
      "cell_type": "markdown",
      "source": [
        "A pie chart was chosen to visualize the distribution of the number of attacks carried out by different terrorist groups in the city of Srinagar.This type of chart is particularly useful when the data is categorical in nature and one wants to show the relative proportions of each category."
      ],
      "metadata": {
        "id": "ptLllMpi-hRG"
      }
    },
    {
      "cell_type": "markdown",
      "source": [
        "##### 2. What is/are the insight(s) found from the chart?"
      ],
      "metadata": {
        "id": "VTih0KrN-hRG"
      }
    },
    {
      "cell_type": "markdown",
      "source": [
        "The insight we get are the proportion of different terrorist groups that have carried out attacks in Srinagar, India. The data in the chart helps to understand which groups are most active in the city and could inform security measures and counter-terrorism strategies."
      ],
      "metadata": {
        "id": "7lS5NECW-hRG"
      }
    },
    {
      "cell_type": "markdown",
      "source": [
        "##### 3. Will the gained insights help creating a positive business impact? \n",
        "Are there any insights that lead to negative growth? Justify with specific reason."
      ],
      "metadata": {
        "id": "SS1jjCqe-hRG"
      }
    },
    {
      "cell_type": "markdown",
      "source": [
        "The gained insights might help in creating a positive business impact for the government and agencies like RAW by providing them with information on the most active terrorist groups in Srinagar and their frequency of attacks. This information can be used to formulate effective counter-terrorism strategies and allocate resources accordingly. However, the impact can only be determined by the government and agencies' ability to effectively utilize the information and take appropriate actions."
      ],
      "metadata": {
        "id": "zF69kUqY-hRH"
      }
    },
    {
      "cell_type": "markdown",
      "source": [
        "#### Chart - 15"
      ],
      "metadata": {
        "id": "BCVocOiR-rk1"
      }
    },
    {
      "cell_type": "code",
      "source": [
        "# Chart - 15 visualization code\n",
        "\n",
        "# kill vs weapons type(India)\n",
        "\n",
        "killvswtype=data_India.groupby(['weaptype1_txt']).agg({'nkill':'sum'})\n",
        "killvswtype.rename(columns={'nkill':'Deaths'},inplace=True)\n",
        "killvswtype.index.names = ['Weapon Type']\n",
        "killvswtype\n",
        "\n",
        "\n",
        "#Graph\n",
        "\n",
        "killvswtype.plot(kind='bar')\n",
        "plt.xlabel('Weapon Type',fontsize=20)\n",
        "plt.ylabel('Deaths',fontsize=20)\n",
        "plt.show\n"
      ],
      "metadata": {
        "id": "WFOIt4N1-rk2"
      },
      "execution_count": null,
      "outputs": []
    },
    {
      "cell_type": "markdown",
      "source": [
        "##### 1. Why did you pick the specific chart?"
      ],
      "metadata": {
        "id": "P9mi1lHf-rk2"
      }
    },
    {
      "cell_type": "markdown",
      "source": [
        "As bar graph is helpful in summarizeing large data set in visual form and we can estimate key values at a glance."
      ],
      "metadata": {
        "id": "vTuQ_L-S-rk2"
      }
    },
    {
      "cell_type": "markdown",
      "source": [
        "##### 2. What is/are the insight(s) found from the chart?"
      ],
      "metadata": {
        "id": "rJ51dI_w-rk2"
      }
    },
    {
      "cell_type": "markdown",
      "source": [
        "This bar chart provides us weapon type and deaths caused from each weapon type used major weapon used in attacks were of firearms followed by explosives."
      ],
      "metadata": {
        "id": "FWtiO_CR-rk2"
      }
    },
    {
      "cell_type": "markdown",
      "source": [
        "##### 3. Will the gained insights help creating a positive business impact? \n",
        "Are there any insights that lead to negative growth? Justify with specific reason."
      ],
      "metadata": {
        "id": "Wu27k6yy-rk2"
      }
    },
    {
      "cell_type": "markdown",
      "source": [
        "Yes.. this data will help us to identify the weapon type used in attacks so to keep a strict surveillance on each type and beware of no. Of weapons available in India and take a strong followup of its used and it's smuggling in India."
      ],
      "metadata": {
        "id": "hi5RMVAh-rk3"
      }
    },
    {
      "cell_type": "markdown",
      "source": [
        "#### Chart - 16"
      ],
      "metadata": {
        "id": "ugKexAEH-1T4"
      }
    },
    {
      "cell_type": "code",
      "source": [
        "# Chart - 16 visualization code\n",
        "\n",
        "# Firearm used vs kills\n",
        "\n",
        "firearm=data_India.loc[data_India.weaptype1_txt == 'Firearms']\n",
        "gun_type=firearm.groupby(['weapsubtype1_txt']).agg({'nkill':'sum'})\n",
        "gun_type.rename(columns={'nkill':'Deaths'},inplace=True)\n",
        "gun_type.index.names = ['Gun_Type']\n",
        "gun_type\n",
        "\n",
        "\n",
        "#Graph\n",
        "\n",
        "values= gun_type.Deaths\n",
        "labels= gun_type.index\n",
        "fig1 = px.pie(gun_type, values=values, names=labels, hole=.5, height = 500, width = 700)\n",
        "fig1.show()\n"
      ],
      "metadata": {
        "id": "X2TDHXzI-1T4"
      },
      "execution_count": null,
      "outputs": []
    },
    {
      "cell_type": "markdown",
      "source": [
        "##### 1. Why did you pick the specific chart?"
      ],
      "metadata": {
        "id": "PlbFkADF-1T5"
      }
    },
    {
      "cell_type": "markdown",
      "source": [
        "Here we used pie chart because it helps to organize and show data as a percentage of a whole."
      ],
      "metadata": {
        "id": "wiiMuEr8-1T5"
      }
    },
    {
      "cell_type": "markdown",
      "source": [
        "##### 2. What is/are the insight(s) found from the chart?"
      ],
      "metadata": {
        "id": "Npnc_cDC-1T5"
      }
    },
    {
      "cell_type": "markdown",
      "source": [
        "This data gives the type of guns used and death caused by each gun as per chart unknown gun type and automatic or semi automatic rifle is the most used gun type and rifle or shotgun is the least used"
      ],
      "metadata": {
        "id": "_FFPwtNy-1T5"
      }
    },
    {
      "cell_type": "markdown",
      "source": [
        "##### 3. Will the gained insights help creating a positive business impact? \n",
        "Are there any insights that lead to negative growth? Justify with specific reason."
      ],
      "metadata": {
        "id": "v9aCafu4-1T5"
      }
    },
    {
      "cell_type": "markdown",
      "source": [
        "Thi data will help us to identify the gun type used and most dangerous gun and in future we can keep a survilence on this to prevent any such future attack, and also avoid giving licence of this gun."
      ],
      "metadata": {
        "id": "MAIF-72s-1T5"
      }
    },
    {
      "cell_type": "markdown",
      "source": [
        "#### Chart - 17"
      ],
      "metadata": {
        "id": "RjxYSQ9N-5Z0"
      }
    },
    {
      "cell_type": "code",
      "source": [
        "# Chart - 17 visualization code\n",
        "\n",
        "# Attack type in India\n",
        "\n",
        "attack_type=data_India.groupby(['attacktype1_txt']).agg({'nkill':'sum'})\n",
        "attack_type.rename(columns={'nkill':'Deaths'},inplace=True)\n",
        "attack_type.index.names = ['attack type']\n",
        "attack_type\n",
        "\n",
        "\n",
        "#Graph\n",
        "\n",
        "attack_type.plot(kind='bar')\n",
        "plt.xlabel('attack type',fontsize=20)\n",
        "plt.ylabel('Deaths',fontsize=20)\n",
        "plt.show\n"
      ],
      "metadata": {
        "id": "MKm9l6hx-5Z1"
      },
      "execution_count": null,
      "outputs": []
    },
    {
      "cell_type": "markdown",
      "source": [
        "##### 1. Why did you pick the specific chart?"
      ],
      "metadata": {
        "id": "7Z2bhTUt-5Z1"
      }
    },
    {
      "cell_type": "markdown",
      "source": [
        "As bar graph is helpful in summarizeing large data set in visual form and we can estimate key values at a glance."
      ],
      "metadata": {
        "id": "2-3uwkXb-5Z1"
      }
    },
    {
      "cell_type": "markdown",
      "source": [
        "##### 2. What is/are the insight(s) found from the chart?"
      ],
      "metadata": {
        "id": "Dr8_nI4k-5Z1"
      }
    },
    {
      "cell_type": "markdown",
      "source": [
        "The chart shows the total number of deaths caused by each type of attack in India. From the chart, it can be inferred that the highest number of deaths in India have been caused by bombing/explosion attacks, followed by armed assaults and shootings."
      ],
      "metadata": {
        "id": "t5wfZigF-5Z1"
      }
    },
    {
      "cell_type": "markdown",
      "source": [
        "##### 3. Will the gained insights help creating a positive business impact? \n",
        "Are there any insights that lead to negative growth? Justify with specific reason."
      ],
      "metadata": {
        "id": "RdXZ1il5-5Z2"
      }
    },
    {
      "cell_type": "markdown",
      "source": [
        "This information can help the government and security forces to better understand the patterns of terrorist activities and allocate agencies, forces and resources more effectively to counter the threat of terrorism."
      ],
      "metadata": {
        "id": "k88KkGwe-5Z2"
      }
    },
    {
      "cell_type": "markdown",
      "source": [
        "#### Chart - 18"
      ],
      "metadata": {
        "id": "7jdEb4xJ-7kG"
      }
    },
    {
      "cell_type": "code",
      "source": [
        "# Chart - 18 visualization code\n",
        "\n",
        "# Target Type India \n",
        "\n",
        "target_type=data_India.groupby(['targtype1_txt']).agg({'iyear':'count'})\n",
        "target_type.rename(columns={'iyear':'No. Of Attacks'},inplace=True)\n",
        "target_type.index.names = ['Target Type']\n",
        "target_type\n",
        "\n",
        "\n",
        "#Graph\n",
        "\n",
        "target_type.plot(kind='bar', figsize=(14,8))\n",
        "plt.xlabel('target type',fontsize=20)\n",
        "plt.ylabel('No. of Attacks',fontsize=20)\n",
        "plt.show"
      ],
      "metadata": {
        "id": "BHCGmJuJ-7kG"
      },
      "execution_count": null,
      "outputs": []
    },
    {
      "cell_type": "markdown",
      "source": [
        "##### 1. Why did you pick the specific chart?"
      ],
      "metadata": {
        "id": "U2zh7F48-7kH"
      }
    },
    {
      "cell_type": "markdown",
      "source": [
        "As bar chart show each data category in a frequency distribution, and permit a visual check of the accuracy and reasonableness of calculation it clearly provides the data."
      ],
      "metadata": {
        "id": "wU_Xc59I-7kH"
      }
    },
    {
      "cell_type": "markdown",
      "source": [
        "##### 2. What is/are the insight(s) found from the chart?"
      ],
      "metadata": {
        "id": "0-6_k9Ka-7kH"
      }
    },
    {
      "cell_type": "markdown",
      "source": [
        "It provides insights on the most common targets of terror incidents in India and can be useful for governments and law enforcement agencies in improving their security measures to protect those targets."
      ],
      "metadata": {
        "id": "AuPVTGNz-7kH"
      }
    },
    {
      "cell_type": "markdown",
      "source": [
        "##### 3. Will the gained insights help creating a positive business impact? \n",
        "Are there any insights that lead to negative growth? Justify with specific reason."
      ],
      "metadata": {
        "id": "CzOEb4Zf-7kH"
      }
    },
    {
      "cell_type": "markdown",
      "source": [
        "It help government and agencies like RAW to better understand the current situation of terrorism in India and allocate resources accordingly by identifying the most targeted type of facilities, they can improve the security measures and prevent terrorist attacks. Additionally, they can also focus their efforts on disabling the operations of specific groups responsible for the majority of attacks on a particular target type. Thus, it can be said that the gained insights can potentially have a positive impact on the government and agencies like RAW."
      ],
      "metadata": {
        "id": "ge-XZCRk-7kH"
      }
    },
    {
      "cell_type": "markdown",
      "source": [
        "#### Chart - 19"
      ],
      "metadata": {
        "id": "NO_Qt5X9A5bd"
      }
    },
    {
      "cell_type": "code",
      "source": [
        "# Chart - 19 visualization code\n",
        "\n",
        "#Attack according to lattitude and longitude[India]\n",
        "attacks_per_lat_long=data_India.groupby(['latitude','longitude']).agg({'iyear':'count'}).reset_index()\n",
        "attacks_per_lat_long.rename(columns={'iyear':'attacks'},inplace=True)\n",
        "attacks_per_lat_long.head(5)\n",
        "\n",
        "#Plotting on map\n",
        "\n",
        "map1 = fo.Map(location=[data_India.latitude.mean(),data_India.longitude.mean()], zoom_start=5, control_scale=True)\n",
        "map1\n",
        "\n",
        "#Plotting Heat map on map\n",
        "\n",
        "from folium.plugins import HeatMap\n",
        "\n",
        "HeatMap(attacks_per_lat_long, min_opacity=0.1, blur = 5).add_to(fo.FeatureGroup(name='Heat Map').add_to(map1))\n",
        "fo.LayerControl().add_to(map1)\n",
        "\n",
        "map1"
      ],
      "metadata": {
        "id": "eI6hTRZrA5be"
      },
      "execution_count": null,
      "outputs": []
    },
    {
      "cell_type": "markdown",
      "source": [
        "##### 1. Why did you pick the specific chart?"
      ],
      "metadata": {
        "id": "n8sQliSrA5be"
      }
    },
    {
      "cell_type": "markdown",
      "source": [
        "Here we used folium heatmap because it helps us analyze the location and geospatial data with ease and lets us create interactive maps."
      ],
      "metadata": {
        "id": "ntRntuX8A5bf"
      }
    },
    {
      "cell_type": "markdown",
      "source": [
        "##### 2. What is/are the insight(s) found from the chart?"
      ],
      "metadata": {
        "id": "SB7Zz9nDA5bf"
      }
    },
    {
      "cell_type": "markdown",
      "source": [
        "The heat map shows the concentration of terror attacks in India according to their latitude and longitude. The areas with high concentration of attacks are shown as red, while the areas with low concentration of attacks are shown as blue."
      ],
      "metadata": {
        "id": "q2py3CKDA5bf"
      }
    },
    {
      "cell_type": "markdown",
      "source": [
        "##### 3. Will the gained insights help creating a positive business impact? \n",
        "Are there any insights that lead to negative growth? Justify with specific reason."
      ],
      "metadata": {
        "id": "1ibY-ZlTA5bf"
      }
    },
    {
      "cell_type": "markdown",
      "source": [
        "The insights from the chart can help government and agencies like RAW to understand the geographical patterns of terrorist activities in India. Based on this information, they can deploy security forces more effectively in areas where there is a higher likelihood of terrorist attacks. This could lead to a reduction in the number of attacks and a positive business impact for the government and RAW."
      ],
      "metadata": {
        "id": "dt4siY21A5bf"
      }
    },
    {
      "cell_type": "markdown",
      "source": [
        "#### Chart - 20 - Correlation Heatmap"
      ],
      "metadata": {
        "id": "NC_X3p0fY2L0"
      }
    },
    {
      "cell_type": "code",
      "source": [
        "# Correlation Heatmap visualization code\n",
        "data_India.corr()\n",
        "\n",
        "#\n",
        "\n",
        "corr_matrix = data_India[['iyear','imonth','success','attacktype1','targtype1','guncertain1','weaptype1','nkill','nkillter','ransom']]\n",
        "corr_matrix = corr_matrix.rename(columns={'iyear': 'Year', \n",
        "                                          'imonth': 'Month', \n",
        "                                          'success': 'Succesfull attacks', \n",
        "                                          'attacktype1': 'Attack Type', \n",
        "                                          'targtype1': 'Target Type', \n",
        "                                          'guncertain1': 'Type of Gun', \n",
        "                                          'weaptype1': 'Weapon Type', \n",
        "                                          'nkill': 'No. of Deaths', \n",
        "                                          'nkillter': 'No. of Terrorist Deaths', \n",
        "                                          'ransom': 'Ransom Demanded'})\n",
        "\n",
        "#Graph\n",
        "\n",
        "plt.subplots(figsize=(10, 10))\n",
        "sns.heatmap(corr_matrix.corr(),cmap='inferno', annot= True)\n",
        "plt.title('Correlation Metrix for Terrorism Data of India', fontsize= 20)\n",
        "plt.show()"
      ],
      "metadata": {
        "id": "xyC9zolEZNRQ"
      },
      "execution_count": null,
      "outputs": []
    },
    {
      "cell_type": "markdown",
      "source": [
        "##### 1. Why did you pick the specific chart?"
      ],
      "metadata": {
        "id": "UV0SzAkaZNRQ"
      }
    },
    {
      "cell_type": "markdown",
      "source": [
        "The heatmap was picked to visualize the correlation between different variables in the dataset. The specific variables were chosen as they are commonly used in terrorism studies and they might give some insights into the trends in terrorism in India."
      ],
      "metadata": {
        "id": "DVPuT8LYZNRQ"
      }
    },
    {
      "cell_type": "markdown",
      "source": [
        "##### 2. What is/are the insight(s) found from the chart?"
      ],
      "metadata": {
        "id": "YPEH6qLeZNRQ"
      }
    },
    {
      "cell_type": "markdown",
      "source": [
        "The insights found from the chart are the correlation between different variables. For example, the correlation between \"Year\" and \"No. of Deaths\" is positive and strong, meaning that as the year increases, the number of deaths due to terrorism also increases. Another insight is that there is a weak negative correlation between \"Ransom Demanded\" and \"No. of Deaths\", meaning that as the ransom demanded increases, the number of deaths decreases."
      ],
      "metadata": {
        "id": "bfSqtnDqZNRR"
      }
    },
    {
      "cell_type": "markdown",
      "source": [
        "##### 3. Will the gained insights help creating a positive business impact? \n",
        "Are there any insights that lead to negative growth? Justify with specific reason."
      ],
      "metadata": {
        "id": "K_HopTrYTuy8"
      }
    },
    {
      "cell_type": "markdown",
      "source": [
        "The gained insights can help create a positive business impact for government and agencies\n",
        "like RAW as they can use this information to allocate resources more efficiently and formulate\n",
        "strategies that focus on areas with high numbers of attacks. The correlation between different \n",
        "variables can also help the government to determine what factors may contribute to the increase \n",
        "or decrease of terrorism in India and address those factor"
      ],
      "metadata": {
        "id": "NxG7zclSTuy8"
      }
    },
    {
      "cell_type": "markdown",
      "source": [
        "# **Conclusion**"
      ],
      "metadata": {
        "id": "gCX9965dhzqZ"
      }
    },
    {
      "cell_type": "markdown",
      "source": [
        "Iraq – the country has faced staggering 24636 number of such attacks between 1970 to 2017 which accounted for 13.61% of terrorism attacks in the world.\n",
        "Attacks were more during 2014 and then in 2015. When compared to attacks from 1970 onwards, the last 6 years scored a maximum. But from 2014 onwards count started decreasing.\n",
        "Iraq dominates all the countries, and it has the highest number of attacks and then Pakistan, Afghanistan, and India follow it.\n",
        "Middle East and North Africa and South Asia are the two regions who encountered the greatest number of terror attacks since 1970.\n",
        "For most of the attacks, the target is Private Citizens & property and the next is on Military leads.\n",
        "Most of the attacks were through either Bombing or Explosion.\n",
        "Most used known Attack tactic by terror group is 'Insurgency/Guerrilla Action'. Where the majority of tactic is random or just unknown.\n",
        "'Islamic State of Iraq and the Levant (ISIL)' were on a killing spree where they murdered 38,793 personal since 1970, Most on compared to other groups. Taliban is again on second place with 29,564 kills.\n",
        "'Islamic State of Iraq & the Levant (ISIL)' and 'Taliban' are two most active Terrorist groups in the last 5 years.\n",
        "From Correlation Matrix, We concluded that column elements 'natlty1' and 'country' are have strong relationship which is evident that the Country is most affected by its own population and social disturbances most likely due to Civil war or local terror groups.\n",
        "Srinagar which is in Jammu and Kashmir has been the centre of the dispute and terror attacks in India.\n",
        "Seems like Terrorist do like 'Explosives' very much like this is the most used Weapon category across the world terror groups.\n",
        "Private Citizens and Property related incidents are most common target for Hostage/Kidnapping incidents.\n",
        "As per analysis, You have about 22.18% chance to get out of kidnapping situation without any hard, but 18.46% bad luck that you won't.\n"
      ],
      "metadata": {
        "id": "Fjb1IsQkh3yE"
      }
    },
    {
      "cell_type": "markdown",
      "source": [
        "### ***Hurrah! You have successfully completed your EDA Capstone Project !!!***"
      ],
      "metadata": {
        "id": "gIfDvo9L0UH2"
      }
    }
  ]
}